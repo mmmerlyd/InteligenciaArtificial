{
  "nbformat": 4,
  "nbformat_minor": 0,
  "metadata": {
    "colab": {
      "provenance": [],
      "toc_visible": true,
      "authorship_tag": "ABX9TyNcqyAxcCmZAJWtRC5amN3p",
      "include_colab_link": true
    },
    "kernelspec": {
      "name": "python3",
      "display_name": "Python 3"
    },
    "language_info": {
      "name": "python"
    }
  },
  "cells": [
    {
      "cell_type": "markdown",
      "metadata": {
        "id": "view-in-github",
        "colab_type": "text"
      },
      "source": [
        "<a href=\"https://colab.research.google.com/github/mmmerlyd/InteligenciaArtificial/blob/main/10DEJUNIO_MD.ipynb\" target=\"_parent\"><img src=\"https://colab.research.google.com/assets/colab-badge.svg\" alt=\"Open In Colab\"/></a>"
      ]
    },
    {
      "cell_type": "code",
      "execution_count": 1,
      "metadata": {
        "id": "k_Nnft-qgv0B",
        "colab": {
          "base_uri": "https://localhost:8080/"
        },
        "outputId": "9a647a92-a0b4-4ca7-8436-dd49f20d9ea4"
      },
      "outputs": [
        {
          "output_type": "stream",
          "name": "stdout",
          "text": [
            "3.10.12 (main, Nov 20 2023, 15:14:05) [GCC 11.4.0]\n"
          ]
        }
      ],
      "source": [
        "import sys\n",
        "print(sys.version)"
      ]
    },
    {
      "cell_type": "code",
      "source": [
        "myNumber=3\n",
        "myNumberDECIMAL=3.0\n",
        "state=True"
      ],
      "metadata": {
        "id": "OaVzRm5QteOS"
      },
      "execution_count": 2,
      "outputs": []
    },
    {
      "cell_type": "code",
      "source": [
        "print(f'valor entero: {myNumber}')\n",
        "print(f'valor decimal: {myNumberDECIMAL}')\n",
        "print('valor entero es =',myNumber)"
      ],
      "metadata": {
        "id": "wCmjnlf6tgx8",
        "colab": {
          "base_uri": "https://localhost:8080/"
        },
        "outputId": "91bf3448-bfef-40c2-9a6a-e069b772e188"
      },
      "execution_count": 3,
      "outputs": [
        {
          "output_type": "stream",
          "name": "stdout",
          "text": [
            "valor entero: 3\n",
            "valor decimal: 3.0\n",
            "valor entero es = 3\n"
          ]
        }
      ]
    },
    {
      "cell_type": "code",
      "source": [
        "aux1=10\n",
        "aux2=2\n",
        "print(\"La suma de las variables aux1 + aux2 = \",aux1+aux2)"
      ],
      "metadata": {
        "id": "wEMSAtknthQv",
        "colab": {
          "base_uri": "https://localhost:8080/"
        },
        "outputId": "f3230b33-6ddb-442c-c395-9c6e131d5305"
      },
      "execution_count": 4,
      "outputs": [
        {
          "output_type": "stream",
          "name": "stdout",
          "text": [
            "La suma de las variables aux1 + aux2 =  12\n"
          ]
        }
      ]
    },
    {
      "cell_type": "code",
      "source": [
        "aux1=14\n",
        "aux2=2\n",
        "print(\"La resta de las variables aux1 - aux2 = \",aux1-aux2)"
      ],
      "metadata": {
        "id": "b1XMWB4ltrKQ",
        "colab": {
          "base_uri": "https://localhost:8080/"
        },
        "outputId": "faf9c0af-5c93-4101-84b8-08012a4c3c7f"
      },
      "execution_count": 5,
      "outputs": [
        {
          "output_type": "stream",
          "name": "stdout",
          "text": [
            "La resta de las variables aux1 - aux2 =  12\n"
          ]
        }
      ]
    },
    {
      "cell_type": "code",
      "source": [
        "aux1=10\n",
        "aux2=2\n",
        "print(\"La multiplicación de las variables aux1 * aux2 = \",aux1*aux2)"
      ],
      "metadata": {
        "id": "_12AvWGMtq_T",
        "colab": {
          "base_uri": "https://localhost:8080/"
        },
        "outputId": "3dd2f57f-74aa-4e1c-e30a-250545ad2efb"
      },
      "execution_count": 6,
      "outputs": [
        {
          "output_type": "stream",
          "name": "stdout",
          "text": [
            "La multiplicación de las variables aux1 * aux2 =  20\n"
          ]
        }
      ]
    },
    {
      "cell_type": "code",
      "source": [
        "aux1=10\n",
        "aux2=2\n",
        "print(\"La división de las variables aux1 / aux2 = \",aux1/aux2)"
      ],
      "metadata": {
        "id": "F4GdDa4itqlk",
        "colab": {
          "base_uri": "https://localhost:8080/"
        },
        "outputId": "1d77df96-ebac-4f42-a66d-3554023d667d"
      },
      "execution_count": 7,
      "outputs": [
        {
          "output_type": "stream",
          "name": "stdout",
          "text": [
            "La división de las variables aux1 / aux2 =  5.0\n"
          ]
        }
      ]
    },
    {
      "cell_type": "code",
      "source": [
        "tmp=aux1**aux2\n",
        "print(f'El resultado es $10*2$={tmp}')"
      ],
      "metadata": {
        "id": "IOAq5Dk7thkU",
        "colab": {
          "base_uri": "https://localhost:8080/"
        },
        "outputId": "19fdf533-3414-40af-ad76-5fe9cbf895fe"
      },
      "execution_count": 8,
      "outputs": [
        {
          "output_type": "stream",
          "name": "stdout",
          "text": [
            "El resultado es $10*2$=100\n"
          ]
        }
      ]
    },
    {
      "cell_type": "code",
      "source": [
        "var1='hola'\n",
        "var2='!,Mishelle'\n",
        "print(var1+var2)"
      ],
      "metadata": {
        "id": "Qkjibb6EtpbH",
        "colab": {
          "base_uri": "https://localhost:8080/"
        },
        "outputId": "37b35461-11b8-46b5-8a89-7f52e6cea243"
      },
      "execution_count": 9,
      "outputs": [
        {
          "output_type": "stream",
          "name": "stdout",
          "text": [
            "hola!,Mishelle\n"
          ]
        }
      ]
    },
    {
      "cell_type": "code",
      "source": [
        "var1='hola'\n",
        "var2=' Karen'\n",
        "print(var1+var2)"
      ],
      "metadata": {
        "id": "9egepHB4tqB1",
        "colab": {
          "base_uri": "https://localhost:8080/"
        },
        "outputId": "9e8791b9-e0cd-4812-9a98-2cdeab9f679e"
      },
      "execution_count": 10,
      "outputs": [
        {
          "output_type": "stream",
          "name": "stdout",
          "text": [
            "hola Karen\n"
          ]
        }
      ]
    },
    {
      "cell_type": "code",
      "source": [
        "print(3*var1)"
      ],
      "metadata": {
        "id": "NzKhbk2Gt62_",
        "colab": {
          "base_uri": "https://localhost:8080/"
        },
        "outputId": "0ad5349e-1e4c-4076-e95b-a98d739dd95f"
      },
      "execution_count": 11,
      "outputs": [
        {
          "output_type": "stream",
          "name": "stdout",
          "text": [
            "holaholahola\n"
          ]
        }
      ]
    },
    {
      "cell_type": "code",
      "source": [
        "num1=10\n",
        "num2=10.5"
      ],
      "metadata": {
        "id": "aRE8SQWit6wx"
      },
      "execution_count": 12,
      "outputs": []
    },
    {
      "cell_type": "code",
      "source": [
        "print('El tipo de número es: ',type(num1))\n",
        "print('El tipo de número es: ',type(num2))"
      ],
      "metadata": {
        "id": "w3TAI_LMt6pi",
        "colab": {
          "base_uri": "https://localhost:8080/"
        },
        "outputId": "6dd090a5-269c-4bac-8faf-9a28cf81aa32"
      },
      "execution_count": 13,
      "outputs": [
        {
          "output_type": "stream",
          "name": "stdout",
          "text": [
            "El tipo de número es:  <class 'int'>\n",
            "El tipo de número es:  <class 'float'>\n"
          ]
        }
      ]
    },
    {
      "cell_type": "code",
      "source": [
        "#TUESDAY 25 JUNE 2024\n",
        "#tmp=list()\n",
        "#tmp.append(2)\n",
        "#print(tmp)\n",
        "#tmp.append('mishelle')\n",
        "#print(tmp)\n",
        "#tmp.append(2)\n",
        "#tmp.append('merly')\n",
        "#print(tmp)\n",
        "#print(tmp[3])\n",
        "#aux=tmp[3]\n",
        "# aux.capitalize()\n",
        "# print(aux)\n",
        "#print(aux.upper())\n",
        "#tmp1='hello'\n",
        "#print(tmp1.capitalize())\n",
        "\n",
        "#aux1=[1,2,3,4,5,6,7,8,9,10]\n",
        "#print(aux1)\n",
        "\n",
        "#aux1[4]=10\n",
        "#print(aux1)\n",
        "\n",
        "#print(aux1[-1])\n",
        "\n",
        "#print(aux1[3:7])\n",
        "\n",
        "#print(aux1[0:5])\n",
        "\n",
        "#print(aux1[:5])\n",
        "\n",
        "#aux2=list()\n",
        "#for i in range(100):\n",
        "#  aux2.append(i)\n",
        "#  print(aux2[:20])\n",
        "\n",
        "#aux3=list()\n",
        "#for indx, elem in enumerate(aux2):\n",
        "#  if aux2[indx]%2==0:\n",
        "#    aux3.append(aux2[indx]**2)\n",
        "#    print(aux3)\n",
        "\n",
        "\n",
        "animals=['cat','dog','monky','rabbit']\n",
        "for animals in animals:\n",
        "  print(animals)\n",
        "\n",
        "tmp3=[i**2 for i in range(10) if i%2==0]\n",
        "print(tmp3)"
      ],
      "metadata": {
        "id": "tTPXp9EsylvG"
      },
      "execution_count": null,
      "outputs": []
    },
    {
      "cell_type": "code",
      "source": [
        "myDictionary={'cat':'cute','dog':'big'}\n",
        "print(myDictionary['cat'])\n",
        "myDictionaryAux={'monkey':'black','mouse':'small','rabit':'white'}\n",
        "myDictionary.update(myDictionaryAux)\n",
        "print(myDictionary)\n",
        "for key, value in myDictionary.items():\n",
        "  #print(key)\n",
        "  print(f'key : {key} Value: {value}')\n",
        "\n",
        "  myList=[1,2,3,4,5,6]\n",
        "  myDictAux1={x:x**2 for x in myList}"
      ],
      "metadata": {
        "colab": {
          "base_uri": "https://localhost:8080/"
        },
        "id": "mkVOdoyoylrx",
        "outputId": "bb130961-51c9-41fd-c337-ce4c50226b30"
      },
      "execution_count": 15,
      "outputs": [
        {
          "output_type": "stream",
          "name": "stdout",
          "text": [
            "cute\n",
            "{'cat': 'cute', 'dog': 'big', 'monkey': 'black', 'mouse': 'small', 'rabit': 'white'}\n",
            "key : cat Value: cute\n",
            "key : dog Value: big\n",
            "key : monkey Value: black\n",
            "key : mouse Value: small\n",
            "key : rabit Value: white\n"
          ]
        }
      ]
    },
    {
      "cell_type": "code",
      "source": [
        "def suma(var1, var2, flag):\n",
        "  if flag==True:\n",
        "    tmp=var1+var2\n",
        "  else:\n",
        "    tmp=var2+var2\n",
        "  #resta\n",
        "  return tmp\n",
        "\n",
        "num1=2\n",
        "num2=7\n",
        "control=True\n",
        "print(suma(num1,num2,control))"
      ],
      "metadata": {
        "colab": {
          "base_uri": "https://localhost:8080/"
        },
        "id": "wIUIjAIBylbt",
        "outputId": "dcc39df8-64a2-488f-d121-ca0a9d64ebfe"
      },
      "execution_count": 18,
      "outputs": [
        {
          "output_type": "stream",
          "name": "stdout",
          "text": [
            "9\n"
          ]
        }
      ]
    },
    {
      "cell_type": "code",
      "source": [
        "listNumeros = [-1, +1, 0]\n",
        "def numero_positivo_negativo(num):\n",
        "  if num > 0:\n",
        "    print(f\"El número {num} es positivo.\")\n",
        "  elif num < 0:\n",
        "    print(f\"El número {num} es negativo.\")\n",
        "  else:\n",
        "    print(\"El número es cero.\")\n",
        "\n",
        "print(numero_positivo_negativo(listNumeros[2]))"
      ],
      "metadata": {
        "colab": {
          "base_uri": "https://localhost:8080/"
        },
        "id": "9-MrgqsrylXV",
        "outputId": "fbe48321-1bde-402e-d4a0-140f35349b4e"
      },
      "execution_count": 17,
      "outputs": [
        {
          "output_type": "stream",
          "name": "stdout",
          "text": [
            "El número es cero.\n",
            "None\n"
          ]
        }
      ]
    },
    {
      "cell_type": "code",
      "source": [
        "#SET AS A CONTAINER\n",
        "var1=set()\n",
        "var1.add(3)\n",
        "print(var1)\n",
        "var1.add('mishelle')\n",
        "var1.add(True)\n",
        "print(var1)\n",
        "var1.add(5)\n",
        "print(var1)\n",
        "var1.remove('mishelle')\n",
        "print(var1)\n",
        "\n",
        "print(len(var1))\n",
        "\n",
        "print(3 in var1)\n",
        "\n",
        "for elem in var1:\n",
        "  print(elem)\n"
      ],
      "metadata": {
        "colab": {
          "base_uri": "https://localhost:8080/"
        },
        "id": "Nc-1ASs4ylTT",
        "outputId": "b09fb373-308f-4e58-f63f-1e66fbc5a01c"
      },
      "execution_count": 19,
      "outputs": [
        {
          "output_type": "stream",
          "name": "stdout",
          "text": [
            "{3}\n",
            "{True, 3, 'mishelle'}\n",
            "{True, 5, 3, 'mishelle'}\n",
            "{True, 5, 3}\n",
            "3\n",
            "True\n",
            "True\n",
            "5\n",
            "3\n"
          ]
        }
      ]
    },
    {
      "cell_type": "code",
      "source": [
        "#Juples\n",
        "var2=tuple()\n",
        "\n",
        "#crear una variable tupa con elementos adicionales\n",
        "var2=var2+('como', 1, True)\n",
        "print(var2)\n",
        "print(type(var2))\n",
        "\n",
        "var2_lista=list(var2)\n",
        "var2_lista.remove('como')\n",
        "print(var2_lista)\n",
        "\n",
        "print(type(var))\n",
        "print(type(aux))\n",
        "\n",
        "aux[2]=300\n",
        "var=tuple[aux]\n",
        "print(var)\n",
        "print(type(var))"
      ],
      "metadata": {
        "colab": {
          "base_uri": "https://localhost:8080/"
        },
        "id": "oCocXTPvylPW",
        "outputId": "5d49feba-857c-4478-812b-d0e306d6719c"
      },
      "execution_count": 34,
      "outputs": [
        {
          "output_type": "stream",
          "name": "stdout",
          "text": [
            "('como', 1, True)\n",
            "<class 'tuple'>\n",
            "[1, True]\n",
            "<class 'types.GenericAlias'>\n",
            "<class 'list'>\n",
            "tuple[[1, 2, 300, 4, 5]]\n",
            "<class 'types.GenericAlias'>\n"
          ]
        }
      ]
    },
    {
      "cell_type": "code",
      "source": [
        "#HOW TO DEFINE A CLASS\n",
        "class saludo(object):\n",
        "  def __init__(self,name):\n",
        "    print(\"EL OBJETO A SIDO CREADO\")\n",
        "    self.name=name\n",
        "\n",
        "  def saludoPersonal(self):\n",
        "    return f\"hola, {self.name}\"\n",
        "\n",
        "name1=saludo(\"Mishelle\")\n",
        "name2=saludo(\"Merly\")\n",
        "name3=saludo(\"Karen\")\n",
        "\n",
        "print(name1.saludoPersonal())"
      ],
      "metadata": {
        "colab": {
          "base_uri": "https://localhost:8080/"
        },
        "id": "4qamzo9u3A5e",
        "outputId": "b4f88826-6aba-4bd4-a68a-e34dd6d505ca"
      },
      "execution_count": 37,
      "outputs": [
        {
          "output_type": "stream",
          "name": "stdout",
          "text": [
            "EL OBJETO A SIDO CREADO\n",
            "EL OBJETO A SIDO CREADO\n",
            "EL OBJETO A SIDO CREADO\n",
            "hola, Mishelle\n"
          ]
        }
      ]
    },
    {
      "cell_type": "code",
      "source": [
        "# Radio, base y la altura una función para calcular el área de un circulo\n",
        "\n",
        "import math\n",
        "\n",
        "class FigurasGeometricas:\n",
        "    def __init__(self, radio, base, altura):\n",
        "        self.radio = radio\n",
        "        self.base = base\n",
        "        self.altura = altura\n",
        "\n",
        "\n",
        "    def calcular_area_circulo(self):\n",
        "        area_circulo = math.pi * self.radio ** 2\n",
        "        return area_circulo\n",
        "\n",
        "    def calcular_area_triangulo(self):\n",
        "        area_triangulo = (self.base * self.altura) / 2\n",
        "        return area_triangulo\n",
        "\n",
        "    def calcular_area_cuadrado(self):\n",
        "        area_cuadrado = (self.altura * self.altura)\n",
        "        return area_cuadrado\n",
        "\n",
        "\n",
        "figura = FigurasGeometricas(radio=5, base=6, altura=4)\n",
        "\n",
        "area_circulo = figura.calcular_area_circulo()\n",
        "print(f\"El área del círculo es: {area_circulo:.2f}\")\n",
        "\n",
        "area_triangulo = figura.calcular_area_triangulo()\n",
        "print(f\"El área del triángulo es: {area_triangulo:.2f}\")\n",
        "\n",
        "area_cuadrado = figura.calcular_area_cuadrado()\n",
        "print(f\"El área del cuadrado es: {area_cuadrado:.2f}\")"
      ],
      "metadata": {
        "colab": {
          "base_uri": "https://localhost:8080/"
        },
        "id": "186o49lR96x3",
        "outputId": "31d61352-99a9-4ca2-c1e8-4bb9e17d0c52"
      },
      "execution_count": 52,
      "outputs": [
        {
          "output_type": "stream",
          "name": "stdout",
          "text": [
            "El área del círculo es: 78.54\n",
            "El área del triángulo es: 12.00\n",
            "El área del cuadrado es: 16.00\n"
          ]
        }
      ]
    },
    {
      "cell_type": "code",
      "source": [
        "#crear nombre y edad, imorima todo en mayúscula y minúscula\n",
        "\n",
        "class printingNameAge(object):\n",
        "  def __init__(self, name, age):\n",
        "    print(\"El objeto a sido creado\")\n",
        "    self.name=name\n",
        "    self.age=age\n",
        "\n",
        "def uppercase(self):\n",
        "  return f\"Name: {self.name.upper()} y la edad {self.age}\"\n",
        "\n",
        "student1=printingNameAge('mishelle',22)\n",
        "\n",
        "print(student1.name)\n",
        "print(student1.age)"
      ],
      "metadata": {
        "colab": {
          "base_uri": "https://localhost:8080/"
        },
        "id": "vbdsCG8e_XFH",
        "outputId": "767e2445-53df-44dd-ae7e-beecdeeecf5d"
      },
      "execution_count": 68,
      "outputs": [
        {
          "output_type": "stream",
          "name": "stdout",
          "text": [
            "El objeto a sido creado\n",
            "mishelle\n",
            "22\n"
          ]
        }
      ]
    },
    {
      "cell_type": "code",
      "source": [
        "class Calculadora:\n",
        "    def __init__(self, numero1, numero2): #Fixed the typo here\n",
        "        self.numero1 = numero1\n",
        "        self.numero2 = numero2\n",
        "\n",
        "    def sumar(self):\n",
        "        resultado = self.numero1 + self.numero2\n",
        "        print(f\"{self.numero1} + {self.numero2} = {resultado}\")\n",
        "        self.es_par(resultado)\n",
        "\n",
        "    def restar(self):\n",
        "        resultado = self.numero1 - self.numero2\n",
        "        print(f\"{self.numero1} - {self.numero2} = {resultado}\")\n",
        "        self.es_par(resultado)\n",
        "\n",
        "    def multiplicar(self):\n",
        "        resultado = self.numero1 * self.numero2\n",
        "        print(f\"{self.numero1} * {self.numero2} = {resultado}\")\n",
        "        self.es_par(resultado)\n",
        "\n",
        "    def dividir(self):\n",
        "        if self.numero2 == 0:\n",
        "            print(\"Error: división por cero\")\n",
        "        else:\n",
        "            resultado = self.numero1 / self.numero2\n",
        "            print(f\"{self.numero1} / {self.numero2} = {resultado}\")\n",
        "            self.es_par(resultado)\n",
        "\n",
        "    def es_par(self, numero):\n",
        "        if numero % 2 == 0:\n",
        "            print(f\"{numero} es par\")\n",
        "        else:\n",
        "            print(f\"{numero} es impar\")\n",
        "\n",
        "# Ejemplo de uso\n",
        "calculadora = Calculadora(10, 5)\n",
        "\n",
        "calculadora.sumar()\n",
        "calculadora.restar()\n",
        "calculadora.multiplicar()\n",
        "calculadora.dividir()\n"
      ],
      "metadata": {
        "colab": {
          "base_uri": "https://localhost:8080/"
        },
        "id": "pg1QKSElAHzS",
        "outputId": "725ed7c3-ab1c-44cd-82fa-bc9c04641681"
      },
      "execution_count": 74,
      "outputs": [
        {
          "output_type": "stream",
          "name": "stdout",
          "text": [
            "10 + 5 = 15\n",
            "15 es impar\n",
            "10 - 5 = 5\n",
            "5 es impar\n",
            "10 * 5 = 50\n",
            "50 es par\n",
            "10 / 5 = 2.0\n",
            "2.0 es par\n"
          ]
        }
      ]
    }
  ]
}