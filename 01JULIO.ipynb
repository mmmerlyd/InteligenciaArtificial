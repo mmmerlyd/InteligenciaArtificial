{
  "nbformat": 4,
  "nbformat_minor": 0,
  "metadata": {
    "colab": {
      "provenance": [],
      "toc_visible": true,
      "authorship_tag": "ABX9TyM1/ZqaEBVPTAcvsbS6KVrZ",
      "include_colab_link": true
    },
    "kernelspec": {
      "name": "python3",
      "display_name": "Python 3"
    },
    "language_info": {
      "name": "python"
    }
  },
  "cells": [
    {
      "cell_type": "markdown",
      "metadata": {
        "id": "view-in-github",
        "colab_type": "text"
      },
      "source": [
        "<a href=\"https://colab.research.google.com/github/mmmerlyd/InteligenciaArtificial/blob/main/01JULIO.ipynb\" target=\"_parent\"><img src=\"https://colab.research.google.com/assets/colab-badge.svg\" alt=\"Open In Colab\"/></a>"
      ]
    },
    {
      "cell_type": "code",
      "execution_count": 25,
      "metadata": {
        "colab": {
          "base_uri": "https://localhost:8080/"
        },
        "id": "1aY_7m-B8aoL",
        "outputId": "b6028558-1a6c-4ba4-9d5e-681d7b39e01c"
      },
      "outputs": [
        {
          "output_type": "stream",
          "name": "stdout",
          "text": [
            "(3,)\n",
            "<class 'numpy.ndarray'>\n",
            "[11 22 33]\n",
            "[11 22]\n",
            "[22 33]\n",
            "[ 11 888  33]\n"
          ]
        }
      ],
      "source": [
        "import numpy as algebraLineal\n",
        "\n",
        "a=algebraLineal.array([11,22,33])\n",
        "print(a.shape)\n",
        "print(type(a))\n",
        "print(a)\n",
        "\n",
        "\n",
        "print(a[:2])\n",
        "print(a[1:3])\n",
        "\n",
        "a[1]=888\n",
        "print(a)"
      ]
    },
    {
      "cell_type": "code",
      "source": [
        "import numpy as np\n",
        "b=np.array([[1,2,3],[11,22,33],[111,222,333]])\n",
        "print(b.shape)\n",
        "print(type(b))\n",
        "print(b)\n",
        "\n",
        "print(b[1,1])\n",
        "aux=b[1:,1:].copy()\n",
        "print(aux.shape)\n",
        "print(aux)\n",
        "\n",
        "print('BEFORE/.....')\n",
        "print(b)\n",
        "print(aux)\n",
        "\n",
        "aux[1,1]=100\n",
        "\n",
        "print('AFTER/.....')\n",
        "print(b)\n",
        "print(aux)\n"
      ],
      "metadata": {
        "colab": {
          "base_uri": "https://localhost:8080/"
        },
        "id": "a0LqNnrcAhLE",
        "outputId": "005556d8-8e75-435c-a882-4e92bc1dc905"
      },
      "execution_count": 32,
      "outputs": [
        {
          "output_type": "stream",
          "name": "stdout",
          "text": [
            "(3, 3)\n",
            "<class 'numpy.ndarray'>\n",
            "[[  1   2   3]\n",
            " [ 11  22  33]\n",
            " [111 222 333]]\n",
            "22\n",
            "(2, 2)\n",
            "[[ 22  33]\n",
            " [222 333]]\n",
            "BEFORE/.....\n",
            "[[  1   2   3]\n",
            " [ 11  22  33]\n",
            " [111 222 333]]\n",
            "[[ 22  33]\n",
            " [222 333]]\n",
            "AFTER/.....\n",
            "[[  1   2   3]\n",
            " [ 11  22  33]\n",
            " [111 222 333]]\n",
            "[[ 22  33]\n",
            " [222 100]]\n"
          ]
        }
      ]
    },
    {
      "cell_type": "code",
      "source": [
        "#matriz\n",
        "c=np.zeros((4,4))\n",
        "print(c)\n",
        "print(c.shape)\n",
        "d=np.full((4,4),9)\n",
        "print(d)"
      ],
      "metadata": {
        "colab": {
          "base_uri": "https://localhost:8080/"
        },
        "id": "UY-v3j2lD7VW",
        "outputId": "9b1cc4d4-adc3-405e-f1ee-5940d0f33a4c"
      },
      "execution_count": 21,
      "outputs": [
        {
          "output_type": "stream",
          "name": "stdout",
          "text": [
            "[[0. 0. 0. 0.]\n",
            " [0. 0. 0. 0.]\n",
            " [0. 0. 0. 0.]\n",
            " [0. 0. 0. 0.]]\n",
            "(4, 4)\n",
            "[[9 9 9 9]\n",
            " [9 9 9 9]\n",
            " [9 9 9 9]\n",
            " [9 9 9 9]]\n"
          ]
        }
      ]
    },
    {
      "cell_type": "code",
      "source": [
        "e=np.eye(3,3)\n",
        "print(e)\n",
        "f=np.ones((4,5))\n",
        "print(f)"
      ],
      "metadata": {
        "colab": {
          "base_uri": "https://localhost:8080/"
        },
        "id": "V_urjuiDEmmV",
        "outputId": "61dbe432-835b-43f6-c8c3-a28bb788b927"
      },
      "execution_count": 22,
      "outputs": [
        {
          "output_type": "stream",
          "name": "stdout",
          "text": [
            "[[1. 0. 0.]\n",
            " [0. 1. 0.]\n",
            " [0. 0. 1.]]\n",
            "[[1. 1. 1. 1. 1.]\n",
            " [1. 1. 1. 1. 1.]\n",
            " [1. 1. 1. 1. 1.]\n",
            " [1. 1. 1. 1. 1.]]\n"
          ]
        }
      ]
    },
    {
      "cell_type": "code",
      "source": [
        "g=np.random.random((5,5))\n",
        "print(g)"
      ],
      "metadata": {
        "colab": {
          "base_uri": "https://localhost:8080/"
        },
        "id": "e4_p6K-AFDv_",
        "outputId": "36f4af45-3ad5-4b44-db7b-9a98dd88ba35"
      },
      "execution_count": 23,
      "outputs": [
        {
          "output_type": "stream",
          "name": "stdout",
          "text": [
            "[[0.52173469 0.67659198 0.6611671  0.14754743 0.42346961]\n",
            " [0.90927509 0.11706456 0.60641705 0.88828367 0.24939904]\n",
            " [0.79478953 0.18409012 0.45043259 0.25711101 0.48445872]\n",
            " [0.71001238 0.4362511  0.76788496 0.50573152 0.56646825]\n",
            " [0.27681569 0.55944509 0.7663124  0.24113223 0.54826285]]\n"
          ]
        }
      ]
    },
    {
      "cell_type": "code",
      "source": [
        "tmp1=np.random.randint(1,20,(4,3))\n",
        "print(tmp1)\n",
        "rows=np.array([0,1,2,0])\n",
        "cols=np.arange(4)\n",
        "print(rows)\n",
        "print(cols)\n",
        "print(rows.shape)\n",
        "print(cols.shape)\n"
      ],
      "metadata": {
        "colab": {
          "base_uri": "https://localhost:8080/"
        },
        "id": "1hdnLSp3FtX_",
        "outputId": "28457124-4923-483f-d6ec-1b17caa1e024"
      },
      "execution_count": 35,
      "outputs": [
        {
          "output_type": "stream",
          "name": "stdout",
          "text": [
            "[[14  1  4]\n",
            " [15  7 13]\n",
            " [ 8 10 12]\n",
            " [ 6 12 12]]\n",
            "[0 1 2 0]\n",
            "[0 1 2 3]\n",
            "(4,)\n",
            "(4,)\n"
          ]
        }
      ]
    },
    {
      "cell_type": "code",
      "source": [
        "tmp1[rows,cols]=100\n",
        "print(tmp1)\n"
      ],
      "metadata": {
        "colab": {
          "base_uri": "https://localhost:8080/"
        },
        "id": "qgPMm9vAJlO9",
        "outputId": "063ffbc7-3ec4-4276-b994-cb111770e75b"
      },
      "execution_count": 45,
      "outputs": [
        {
          "output_type": "stream",
          "name": "stdout",
          "text": [
            "[[100  28  23 100  30  20]\n",
            " [ 27 100  31  36  49  28]\n",
            " [ 42  37 100  41  22  20]\n",
            " [ 44  46  33  40  37  46]\n",
            " [ 43  41  45  29  48  25]\n",
            " [ 39  37  41  22  30  43]]\n"
          ]
        }
      ]
    },
    {
      "cell_type": "code",
      "source": [
        "tmp1=np.random.randint(20,50,(6,6))\n",
        "print(tmp1)"
      ],
      "metadata": {
        "colab": {
          "base_uri": "https://localhost:8080/"
        },
        "id": "-7vtd6x-Kbhw",
        "outputId": "356642bc-7084-405f-9c29-8537323aa846"
      },
      "execution_count": 44,
      "outputs": [
        {
          "output_type": "stream",
          "name": "stdout",
          "text": [
            "[[37 28 23 45 30 20]\n",
            " [27 25 31 36 49 28]\n",
            " [42 37 31 41 22 20]\n",
            " [44 46 33 40 37 46]\n",
            " [43 41 45 29 48 25]\n",
            " [39 37 41 22 30 43]]\n"
          ]
        }
      ]
    },
    {
      "cell_type": "code",
      "source": [
        "filter=(tmp1>45)\n",
        "print(filter)\n",
        "print(tmp1[filter])"
      ],
      "metadata": {
        "colab": {
          "base_uri": "https://localhost:8080/"
        },
        "id": "WbZwo9_9LVlt",
        "outputId": "77a48694-cb4c-4e60-be33-0600689c1387"
      },
      "execution_count": 52,
      "outputs": [
        {
          "output_type": "stream",
          "name": "stdout",
          "text": [
            "[[False False False False  True  True  True False  True False]\n",
            " [ True  True False  True  True  True False False  True False]\n",
            " [ True  True  True False False False  True False False False]\n",
            " [False  True  True  True  True False False False False False]\n",
            " [False  True False  True False False  True  True  True False]\n",
            " [False  True  True False False  True False  True  True False]\n",
            " [False  True False  True  True False  True  True  True  True]\n",
            " [ True False  True False False  True False  True  True False]\n",
            " [ True  True False False False False False False  True  True]\n",
            " [ True False  True False  True False  True  True  True False]]\n",
            "[85 98 74 94 62 70 52 70 71 87 94 82 83 99 55 96 63 47 79 83 70 70 49 68\n",
            " 76 85 96 76 92 70 51 67 59 60 70 90 90 68 82 58 81 53 56 74 87 96 73 76\n",
            " 48 87]\n"
          ]
        }
      ]
    },
    {
      "cell_type": "code",
      "source": [
        "tmp1=np.random.randint(1,100,(10,10))\n",
        "print(tmp1)"
      ],
      "metadata": {
        "colab": {
          "base_uri": "https://localhost:8080/"
        },
        "id": "AK57PqPSMk8L",
        "outputId": "b93a7dc3-c6de-4bde-9f5d-ab7e00184426"
      },
      "execution_count": 51,
      "outputs": [
        {
          "output_type": "stream",
          "name": "stdout",
          "text": [
            "[[30 35  1 18 85 98 74 35 94 18]\n",
            " [62 70 18 52 70 71 34 36 87 15]\n",
            " [94 82 83 13  7 14 99 38 44 20]\n",
            " [20 55 96 63 47  4 23 32 43 38]\n",
            " [38 79  5 83 39 16 70 70 49 15]\n",
            " [20 68 76 28 37 85 16 96 76 42]\n",
            " [ 1 92  2 70 51  2 67 59 60 70]\n",
            " [90  5 90 41 22 68 21 82 58 30]\n",
            " [81 53 13 27 34 14 34 15 56 74]\n",
            " [87 38 96  1 73 28 76 48 87 42]]\n"
          ]
        }
      ]
    },
    {
      "cell_type": "code",
      "source": [
        "filter=(tmp1%2==0)\n",
        "print(filter)\n",
        "print(tmp1[filter])"
      ],
      "metadata": {
        "colab": {
          "base_uri": "https://localhost:8080/"
        },
        "id": "4cvnRuk-Nbfa",
        "outputId": "deb95046-8578-4b46-bca3-85d90eab5217"
      },
      "execution_count": 53,
      "outputs": [
        {
          "output_type": "stream",
          "name": "stdout",
          "text": [
            "[[ True False False  True False  True  True False  True  True]\n",
            " [ True  True  True  True  True False  True  True False False]\n",
            " [ True  True False False False  True False  True  True  True]\n",
            " [ True False  True False False  True False  True False  True]\n",
            " [ True False False False False  True  True  True False False]\n",
            " [ True  True  True  True False False  True  True  True  True]\n",
            " [False  True  True  True False  True False False  True  True]\n",
            " [ True False  True False  True  True False  True  True  True]\n",
            " [False False False False  True  True  True False  True  True]\n",
            " [False  True  True False False  True  True  True False  True]]\n",
            "[30 18 98 74 94 18 62 70 18 52 70 34 36 94 82 14 38 44 20 20 96  4 32 38\n",
            " 38 16 70 70 20 68 76 28 16 96 76 42 92  2 70  2 60 70 90 90 22 68 82 58\n",
            " 30 34 14 34 56 74 38 96 28 76 48 42]\n"
          ]
        }
      ]
    },
    {
      "cell_type": "code",
      "source": [
        "tmp3=np.array([1,2,3,4,5],dtype=np.float64)\n",
        "print(tmp3.dtype)"
      ],
      "metadata": {
        "colab": {
          "base_uri": "https://localhost:8080/"
        },
        "id": "FifJqU6DOk6P",
        "outputId": "32923d22-1720-4a6b-de81-76292a469d55"
      },
      "execution_count": 55,
      "outputs": [
        {
          "output_type": "stream",
          "name": "stdout",
          "text": [
            "float64\n"
          ]
        }
      ]
    },
    {
      "cell_type": "code",
      "source": [
        "x=np.array([[1,2],[11,22]])\n",
        "y=np.array([[22,33],[44,55]])\n",
        "print(x)\n",
        "print(y)\n",
        "\n",
        "print(np.add(x,y))\n",
        "print(np.subtract(x,y))\n",
        "print(np.multiply(x,y))\n",
        "print(np.divide(x,y))\n",
        "print(np.sqrt(x))"
      ],
      "metadata": {
        "colab": {
          "base_uri": "https://localhost:8080/"
        },
        "id": "cGo_RerhPHcg",
        "outputId": "7ca59a37-693d-4fca-8903-43f9519d4e80"
      },
      "execution_count": 61,
      "outputs": [
        {
          "output_type": "stream",
          "name": "stdout",
          "text": [
            "[[ 1  2]\n",
            " [11 22]]\n",
            "[[22 33]\n",
            " [44 55]]\n",
            "[[23 35]\n",
            " [55 77]]\n",
            "[[-21 -31]\n",
            " [-33 -33]]\n",
            "[[  22   66]\n",
            " [ 484 1210]]\n",
            "[[0.04545455 0.06060606]\n",
            " [0.25       0.4       ]]\n",
            "[[1.         1.41421356]\n",
            " [3.31662479 4.69041576]]\n"
          ]
        }
      ]
    },
    {
      "cell_type": "code",
      "source": [
        "tmp1=np.random.randint(1,10,(2,5))\n",
        "print(tmp1)\n",
        "aux=tmp1.mean()\n",
        "print(aux)"
      ],
      "metadata": {
        "colab": {
          "base_uri": "https://localhost:8080/"
        },
        "id": "2LrxXpsrQdRr",
        "outputId": "c833cd86-896d-4d79-a7c0-44ff2a874f01"
      },
      "execution_count": 63,
      "outputs": [
        {
          "output_type": "stream",
          "name": "stdout",
          "text": [
            "[[1 9 1 1 6]\n",
            " [6 3 8 2 5]]\n",
            "4.2\n"
          ]
        }
      ]
    },
    {
      "cell_type": "code",
      "source": [
        "print(tmp1.mean(axis=1))\n",
        "print(tmp1.mean(axis=0))"
      ],
      "metadata": {
        "colab": {
          "base_uri": "https://localhost:8080/"
        },
        "id": "QiIP0valRBmq",
        "outputId": "6ca4b308-2ad0-471a-b0f3-4b1716a6a702"
      },
      "execution_count": 65,
      "outputs": [
        {
          "output_type": "stream",
          "name": "stdout",
          "text": [
            "[3.6 4.8]\n",
            "[3.5 6.  4.5 1.5 5.5]\n"
          ]
        }
      ]
    }
  ]
}