{
  "nbformat": 4,
  "nbformat_minor": 0,
  "metadata": {
    "colab": {
      "provenance": [],
      "authorship_tag": "ABX9TyM71i8NteYcE823ajwoACye",
      "include_colab_link": true
    },
    "kernelspec": {
      "name": "python3",
      "display_name": "Python 3"
    },
    "language_info": {
      "name": "python"
    }
  },
  "cells": [
    {
      "cell_type": "markdown",
      "metadata": {
        "id": "view-in-github",
        "colab_type": "text"
      },
      "source": [
        "<a href=\"https://colab.research.google.com/github/mmmerlyd/InteligenciaArtificial/blob/main/LUNES10JUNIO.ipynb\" target=\"_parent\"><img src=\"https://colab.research.google.com/assets/colab-badge.svg\" alt=\"Open In Colab\"/></a>"
      ]
    },
    {
      "cell_type": "code",
      "execution_count": 2,
      "metadata": {
        "colab": {
          "base_uri": "https://localhost:8080/"
        },
        "id": "a7v9NwC--5v7",
        "outputId": "7a165f78-a7db-49c4-dce1-bf0a5ae4286c"
      },
      "outputs": [
        {
          "output_type": "stream",
          "name": "stdout",
          "text": [
            "3.10.12 (main, Nov 20 2023, 15:14:05) [GCC 11.4.0]\n"
          ]
        }
      ],
      "source": [
        "import sys\n",
        "print(sys.version)"
      ]
    },
    {
      "cell_type": "code",
      "source": [
        "myNumber=3\n",
        "myNumberDECIMAL=3.0\n",
        "state=True"
      ],
      "metadata": {
        "id": "p3696aP8C5FX"
      },
      "execution_count": 4,
      "outputs": []
    },
    {
      "cell_type": "code",
      "source": [
        "print(f'valor entero: {myNumber}')\n",
        "print(f'valor decimal: {myNumberDECIMAL}')\n",
        "print('valor entero es =',myNumber)"
      ],
      "metadata": {
        "colab": {
          "base_uri": "https://localhost:8080/"
        },
        "id": "gM5secpiDYhv",
        "outputId": "a4a4d6af-2449-4f52-fbda-1a54e458dc01"
      },
      "execution_count": 7,
      "outputs": [
        {
          "output_type": "stream",
          "name": "stdout",
          "text": [
            "valor entero: 3\n",
            "valor decimal: 3.0\n",
            "valor entero es = 3\n"
          ]
        }
      ]
    },
    {
      "cell_type": "code",
      "source": [
        "aux1=10\n",
        "aux2=2\n",
        "print(\"La suma de las variables aux1 + aux2 = \",aux1+aux2)"
      ],
      "metadata": {
        "colab": {
          "base_uri": "https://localhost:8080/"
        },
        "id": "VIDR2w0JEnvX",
        "outputId": "4fd6a3b8-978a-45ea-c292-3fc4fadcb853"
      },
      "execution_count": 8,
      "outputs": [
        {
          "output_type": "stream",
          "name": "stdout",
          "text": [
            "La suma de las variables aux1 + aux2 =  12\n"
          ]
        }
      ]
    },
    {
      "cell_type": "code",
      "source": [
        "aux1=14\n",
        "aux2=2\n",
        "print(\"La resta de las variables aux1 - aux2 = \",aux1-aux2)"
      ],
      "metadata": {
        "colab": {
          "base_uri": "https://localhost:8080/"
        },
        "id": "u7VTur_ME_fn",
        "outputId": "e30bc317-59ff-4123-f647-fa7dd15feb7c"
      },
      "execution_count": 9,
      "outputs": [
        {
          "output_type": "stream",
          "name": "stdout",
          "text": [
            "La resta de las variables aux1 - aux2 =  12\n"
          ]
        }
      ]
    },
    {
      "cell_type": "code",
      "source": [
        "aux1=10\n",
        "aux2=2\n",
        "print(\"La multiplicación de las variables aux1 * aux2 = \",aux1*aux2)"
      ],
      "metadata": {
        "colab": {
          "base_uri": "https://localhost:8080/"
        },
        "id": "IX2ziJ7iFKgX",
        "outputId": "51b2c806-69aa-4b54-8b5c-19c281e381be"
      },
      "execution_count": 10,
      "outputs": [
        {
          "output_type": "stream",
          "name": "stdout",
          "text": [
            "La multiplicación de las variables aux1 * aux2 =  20\n"
          ]
        }
      ]
    },
    {
      "cell_type": "code",
      "source": [
        "aux1=10\n",
        "aux2=2\n",
        "print(\"La división de las variables aux1 / aux2 = \",aux1/aux2)"
      ],
      "metadata": {
        "colab": {
          "base_uri": "https://localhost:8080/"
        },
        "id": "_ZH1hAZSFSX3",
        "outputId": "1a4044b9-6a2c-45d8-bbbf-2f1b79bd249b"
      },
      "execution_count": 11,
      "outputs": [
        {
          "output_type": "stream",
          "name": "stdout",
          "text": [
            "La división de las variables aux1 / aux2 =  5.0\n"
          ]
        }
      ]
    },
    {
      "cell_type": "code",
      "source": [
        "tmp=aux1**aux2\n",
        "print(f'El resultado es $10*2$={tmp}')"
      ],
      "metadata": {
        "colab": {
          "base_uri": "https://localhost:8080/"
        },
        "id": "ylyKb8AtFaoP",
        "outputId": "266c8a6f-d639-4fec-8405-ad75e19005dc"
      },
      "execution_count": 14,
      "outputs": [
        {
          "output_type": "stream",
          "name": "stdout",
          "text": [
            "El resultado es $10*2$=100\n"
          ]
        }
      ]
    },
    {
      "cell_type": "code",
      "source": [
        "var1='hola'\n",
        "var2='!,Mishelle'\n",
        "print(var1+var2)"
      ],
      "metadata": {
        "colab": {
          "base_uri": "https://localhost:8080/"
        },
        "id": "vsUQ2IQ7F_qG",
        "outputId": "8d180cae-a3ba-420b-8d60-ee1ec220a9c3"
      },
      "execution_count": 22,
      "outputs": [
        {
          "output_type": "stream",
          "name": "stdout",
          "text": [
            "hola!,Mishelle\n"
          ]
        }
      ]
    },
    {
      "cell_type": "code",
      "source": [
        "var1='hola'\n",
        "var2=' Karen'\n",
        "print(var1+var2)"
      ],
      "metadata": {
        "colab": {
          "base_uri": "https://localhost:8080/"
        },
        "id": "8u-cc51cGV1W",
        "outputId": "84333716-0884-4fcf-f45d-2b7eff194288"
      },
      "execution_count": 20,
      "outputs": [
        {
          "output_type": "stream",
          "name": "stdout",
          "text": [
            "hola Karen\n"
          ]
        }
      ]
    },
    {
      "cell_type": "code",
      "source": [
        "print(3*var1)"
      ],
      "metadata": {
        "colab": {
          "base_uri": "https://localhost:8080/"
        },
        "id": "mc3CTtdpGlYn",
        "outputId": "8931b2de-87a0-4e8a-858b-3ac18866db14"
      },
      "execution_count": 34,
      "outputs": [
        {
          "output_type": "stream",
          "name": "stdout",
          "text": [
            "holaholahola\n"
          ]
        }
      ]
    },
    {
      "cell_type": "code",
      "source": [
        "num1=10\n",
        "num2=10.5\n"
      ],
      "metadata": {
        "id": "2mxi-75YGsbv"
      },
      "execution_count": 24,
      "outputs": []
    },
    {
      "cell_type": "code",
      "source": [
        "print('El tipo de número es: ',type(num1))\n",
        "print('El tipo de número es: ',type(num2))"
      ],
      "metadata": {
        "colab": {
          "base_uri": "https://localhost:8080/"
        },
        "id": "2wttmWsZG5xW",
        "outputId": "daebb905-212e-4b6c-c015-73886c1af429"
      },
      "execution_count": 31,
      "outputs": [
        {
          "output_type": "stream",
          "name": "stdout",
          "text": [
            "El tipo de número es:  <class 'int'>\n",
            "El tipo de número es:  <class 'float'>\n"
          ]
        }
      ]
    }
  ]
}