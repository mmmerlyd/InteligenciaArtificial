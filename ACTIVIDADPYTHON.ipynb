{
  "nbformat": 4,
  "nbformat_minor": 0,
  "metadata": {
    "colab": {
      "provenance": [],
      "authorship_tag": "ABX9TyN33S3JemEcUy/rDtRg4SMx",
      "include_colab_link": true
    },
    "kernelspec": {
      "name": "python3",
      "display_name": "Python 3"
    },
    "language_info": {
      "name": "python"
    }
  },
  "cells": [
    {
      "cell_type": "markdown",
      "metadata": {
        "id": "view-in-github",
        "colab_type": "text"
      },
      "source": [
        "<a href=\"https://colab.research.google.com/github/mmmerlyd/InteligenciaArtificial/blob/main/ACTIVIDADPYTHON.ipynb\" target=\"_parent\"><img src=\"https://colab.research.google.com/assets/colab-badge.svg\" alt=\"Open In Colab\"/></a>"
      ]
    },
    {
      "cell_type": "code",
      "source": [
        "# Dominguez Zambrano Merly Mishelle"
      ],
      "metadata": {
        "id": "62lE4NoCtsYK"
      },
      "execution_count": 1,
      "outputs": []
    },
    {
      "cell_type": "code",
      "source": [
        "#Ejercicio 1\n",
        "# Importa numpy como np y mira la versión\n",
        "import numpy as np\n",
        "print(np.__version__)"
      ],
      "metadata": {
        "colab": {
          "base_uri": "https://localhost:8080/"
        },
        "id": "nTGzqlvwOY1R",
        "outputId": "cf7b5b6e-fc44-4517-da41-f86d5e771ee3"
      },
      "execution_count": 3,
      "outputs": [
        {
          "output_type": "stream",
          "name": "stdout",
          "text": [
            "1.25.2\n"
          ]
        }
      ]
    },
    {
      "cell_type": "code",
      "source": [
        "#Ejercicio 2\n",
        "#Crea una matriz de 10  números del 0 al 9\n",
        "a=np.array([0,1,2,3,4,5,6,7,8,9])\n",
        "print(a)"
      ],
      "metadata": {
        "colab": {
          "base_uri": "https://localhost:8080/"
        },
        "id": "j3e6_KsYOn9w",
        "outputId": "9bc4a8ce-df18-46df-948a-ddfa981d5fbd"
      },
      "execution_count": 5,
      "outputs": [
        {
          "output_type": "stream",
          "name": "stdout",
          "text": [
            "[0 1 2 3 4 5 6 7 8 9]\n"
          ]
        }
      ]
    },
    {
      "cell_type": "code",
      "source": [
        "#Ejercicio 3\n",
        "#Crea un vector aleatorio de tamaño 10 y reemplaza el valor máximo por 0\n",
        "import numpy as np\n",
        "b=np.random.rand(10)\n",
        "indice_maximo = np.argmax(b)\n",
        "b[indice_maximo] = 0\n",
        "print(b)"
      ],
      "metadata": {
        "colab": {
          "base_uri": "https://localhost:8080/"
        },
        "id": "-wywI8BjpYWz",
        "outputId": "997a1217-7906-45f9-efc0-8f5943c1ef18"
      },
      "execution_count": 6,
      "outputs": [
        {
          "output_type": "stream",
          "name": "stdout",
          "text": [
            "[0.35979253 0.7797502  0.66988761 0.         0.27464067 0.26492893\n",
            " 0.00491528 0.55346973 0.26397866 0.68371903]\n"
          ]
        }
      ]
    },
    {
      "cell_type": "code",
      "source": [
        "#Ejercicio 4\n",
        "# Imprima el número 8 de la siguiente matriz\n",
        "arr = np.array([[1,2,3,4,5], [6,7,8,9,10]])\n",
        "print(arr[1,2])\n"
      ],
      "metadata": {
        "colab": {
          "base_uri": "https://localhost:8080/"
        },
        "id": "-pFzn8kzPO0L",
        "outputId": "0a8b3d3e-9a0a-4976-c7bf-c810cf5a496a"
      },
      "execution_count": 12,
      "outputs": [
        {
          "output_type": "stream",
          "name": "stdout",
          "text": [
            "8\n"
          ]
        }
      ]
    },
    {
      "cell_type": "code",
      "source": [
        "#Ejercicio 5\n",
        "#Imprima los números [3, 4, 5] de la siguiente matriz\n",
        "arr = np.array([1,2,3,4,5,6,7])\n",
        "print(arr[2:5])"
      ],
      "metadata": {
        "colab": {
          "base_uri": "https://localhost:8080/"
        },
        "id": "yX5jdQl0qZ9Z",
        "outputId": "52bb38eb-21d2-4247-a47c-5ab25a3fcf4c"
      },
      "execution_count": 14,
      "outputs": [
        {
          "output_type": "stream",
          "name": "stdout",
          "text": [
            "[3 4 5]\n"
          ]
        }
      ]
    },
    {
      "cell_type": "code",
      "source": [
        "#Ejercicio 6\n",
        "# Imprima los últimos 4 números de la siguiente matriz\n",
        "arr = np.array([1,2,3,4,5,6,7])\n",
        "print(arr[-4:])"
      ],
      "metadata": {
        "colab": {
          "base_uri": "https://localhost:8080/"
        },
        "id": "vtJ0cOGsqZ3l",
        "outputId": "2b943836-fbf4-4ba2-d454-4f12a4f9d137"
      },
      "execution_count": 16,
      "outputs": [
        {
          "output_type": "stream",
          "name": "stdout",
          "text": [
            "[4 5 6 7]\n"
          ]
        }
      ]
    },
    {
      "cell_type": "code",
      "source": [
        "#Ejercicio 7\n",
        "# Crea una matriz numpy de 3×3 de todos los valores True\n",
        "import numpy as np\n",
        "arr=np.full((3, 3), True, dtype=bool)\n",
        "print(arr)"
      ],
      "metadata": {
        "colab": {
          "base_uri": "https://localhost:8080/"
        },
        "id": "fIoQRtfOqZwo",
        "outputId": "8400e94e-4543-4ddf-8656-e8ee14b6c0fc"
      },
      "execution_count": 19,
      "outputs": [
        {
          "output_type": "stream",
          "name": "stdout",
          "text": [
            "[[ True  True  True]\n",
            " [ True  True  True]\n",
            " [ True  True  True]]\n"
          ]
        }
      ]
    },
    {
      "cell_type": "code",
      "source": [
        "#Ejercicio 8\n",
        "# Extraer todos los números impares de arr\n",
        "arr=np.array([1,2,3,4,5,6,7,8,9])\n",
        "print(arr[arr%2==1])"
      ],
      "metadata": {
        "colab": {
          "base_uri": "https://localhost:8080/"
        },
        "id": "hddWYUKRqZoA",
        "outputId": "e93de333-707f-4ab6-f50f-88d064a256f4"
      },
      "execution_count": 20,
      "outputs": [
        {
          "output_type": "stream",
          "name": "stdout",
          "text": [
            "[1 3 5 7 9]\n"
          ]
        }
      ]
    },
    {
      "cell_type": "code",
      "source": [
        "#Ejercicio 9\n",
        "# Crea un vector con valores que van desde 10 hasta 49\n",
        "import numpy as np\n",
        "arr = np.arange(10, 50)\n",
        "print(arr)"
      ],
      "metadata": {
        "colab": {
          "base_uri": "https://localhost:8080/"
        },
        "id": "m_bV0aqoqZjh",
        "outputId": "bde3d877-08d0-40a6-a062-ce1e8f0874ac"
      },
      "execution_count": 2,
      "outputs": [
        {
          "output_type": "stream",
          "name": "stdout",
          "text": [
            "[10 11 12 13 14 15 16 17 18 19 20 21 22 23 24 25 26 27 28 29 30 31 32 33\n",
            " 34 35 36 37 38 39 40 41 42 43 44 45 46 47 48 49]\n"
          ]
        }
      ]
    },
    {
      "cell_type": "code",
      "source": [
        "#Ejercicio 10\n",
        "#Invertir un vector (el primer elemento se convierte en el último)\n",
        "arr=np.array([1,2,3,4,5])\n",
        "print(arr[::-1])"
      ],
      "metadata": {
        "colab": {
          "base_uri": "https://localhost:8080/"
        },
        "id": "miapYwz-qZev",
        "outputId": "999e9881-66ea-4056-e2e2-290b2a02b58d"
      },
      "execution_count": 3,
      "outputs": [
        {
          "output_type": "stream",
          "name": "stdout",
          "text": [
            "[5 4 3 2 1]\n"
          ]
        }
      ]
    },
    {
      "cell_type": "code",
      "source": [
        "#Ejercicio 11\n",
        "# Cree una matriz de 10x10 con valores enteros aleatorios y encuentre los valores mínimo y máximo\n",
        "import numpy as np\n",
        "matriz = np.random.randint(0, 100, size=(10, 10))\n",
        "valor_minimo = np.min(matriz)\n",
        "valor_maximo = np.max(matriz)\n",
        "print(\"Matriz:\\n\", matriz)\n",
        "print(\"\\nValor mínimo:\", valor_minimo)\n",
        "print(\"Valor máximo:\", valor_maximo)"
      ],
      "metadata": {
        "colab": {
          "base_uri": "https://localhost:8080/"
        },
        "id": "bG9Nl-c7qZZz",
        "outputId": "dd3b8e24-1d6d-47cf-aed5-3ec2e1c3f543"
      },
      "execution_count": 4,
      "outputs": [
        {
          "output_type": "stream",
          "name": "stdout",
          "text": [
            "Matriz:\n",
            " [[38 61 53 69 87 46  5 65 77 75]\n",
            " [90 76 70 66 79  7 36 90 37 74]\n",
            " [24 20 58 27 22 64 15 68 47 57]\n",
            " [79 81  1 39 96 82 83 97 75  8]\n",
            " [45 73 51 95 12  5 48 83 76 87]\n",
            " [85 49 90 31 96 78 99 47 93 98]\n",
            " [43 86 70 90 33  2 13 53 91  4]\n",
            " [87 32 54 49  9 34 71 24  0 54]\n",
            " [84 60 75 76 54 86 24 23 40 27]\n",
            " [10 93 39 83  1 70 52 81 71  6]]\n",
            "\n",
            "Valor mínimo: 0\n",
            "Valor máximo: 99\n"
          ]
        }
      ]
    },
    {
      "cell_type": "code",
      "source": [
        "#Ejercicio 12\n",
        "# Crea una matriz de 3x3x3 con valores aleatorios\n",
        "import numpy as np\n",
        "matriz = np.random.rand(3, 3, 3)\n",
        "print(matriz)\n"
      ],
      "metadata": {
        "colab": {
          "base_uri": "https://localhost:8080/"
        },
        "id": "JlWEqbKUqZUl",
        "outputId": "160cecfe-4a5a-4ab3-bc5f-4d4bb95bc0a1"
      },
      "execution_count": 5,
      "outputs": [
        {
          "output_type": "stream",
          "name": "stdout",
          "text": [
            "[[[0.56018254 0.9157011  0.13478301]\n",
            "  [0.25968634 0.90318447 0.8907412 ]\n",
            "  [0.67566622 0.44256517 0.39893443]]\n",
            "\n",
            " [[0.97689811 0.58241315 0.34067282]\n",
            "  [0.01742389 0.84768877 0.51297548]\n",
            "  [0.67543808 0.05159536 0.42381073]]\n",
            "\n",
            " [[0.27422634 0.42972504 0.79382778]\n",
            "  [0.9448887  0.28958845 0.97287651]\n",
            "  [0.4406626  0.15954419 0.48635518]]]\n"
          ]
        }
      ]
    },
    {
      "cell_type": "code",
      "source": [
        "#Ejercicio 13\n",
        "#Reemplace todos los números impares en arr con -1\n",
        "arr=np.array([1,2,3,4,5,6,7,8,9])\n",
        "arr[arr%2==0]=-1\n",
        "print(arr)"
      ],
      "metadata": {
        "colab": {
          "base_uri": "https://localhost:8080/"
        },
        "id": "DqTqhk6PqZOf",
        "outputId": "900029d1-98ff-49f6-e000-b17d35b68e9e"
      },
      "execution_count": 7,
      "outputs": [
        {
          "output_type": "stream",
          "name": "stdout",
          "text": [
            "[ 1 -1  3 -1  5 -1  7 -1  9]\n"
          ]
        }
      ]
    },
    {
      "cell_type": "code",
      "source": [
        "#Ejercicio 14\n",
        "#Crear una matriz de tipo float\n",
        "import numpy as np\n",
        "arr= np.array([[1.2, 3.5, 5.1],\n",
        "                         [7.2, 9.9, 2.8]], dtype=np.float64)\n",
        "print(arr)\n",
        "print(\"Tipo de dato de la matriz:\", arr.dtype)\n"
      ],
      "metadata": {
        "colab": {
          "base_uri": "https://localhost:8080/"
        },
        "id": "P9AEhSXYqZCA",
        "outputId": "7191b988-73ba-4f7b-ac00-f366d2089537"
      },
      "execution_count": 12,
      "outputs": [
        {
          "output_type": "stream",
          "name": "stdout",
          "text": [
            "[[1.2 3.5 5.1]\n",
            " [7.2 9.9 2.8]]\n",
            "Tipo de dato de la matriz: float64\n"
          ]
        }
      ]
    },
    {
      "cell_type": "code",
      "source": [
        "#Ejercicio 15\n",
        "#Convertir una matriz 10 en una matriz 20 con 2 filas\n",
        "import numpy as np\n",
        "arr=np.array([1,2,3,4,5,6,7,8,9,10])\n",
        "arr=np.reshape(arr,(2,5))\n",
        "print(arr)"
      ],
      "metadata": {
        "colab": {
          "base_uri": "https://localhost:8080/"
        },
        "id": "OauEdjpb1ExF",
        "outputId": "b2aec3aa-52c9-46ba-fa69-d8aa2011e0eb"
      },
      "execution_count": 2,
      "outputs": [
        {
          "output_type": "stream",
          "name": "stdout",
          "text": [
            "[[ 1  2  3  4  5]\n",
            " [ 6  7  8  9 10]]\n"
          ]
        }
      ]
    },
    {
      "cell_type": "code",
      "source": [
        "#Ejercicio 16\n",
        "#¿Cómo encontrar valores comunes entre dos matrices?\n",
        "#Z1 = np.random.randint(0,10,10)\n",
        "#Z2 = np.random.randint(0,10,10)\n",
        "import numpy as np\n",
        "Z1 = np.random.randint(0, 10, 10)\n",
        "Z2 = np.random.randint(0, 10, 10)\n",
        "valores_comunes = np.intersect1d(Z1, Z2)\n",
        "print(\"Matriz Z1:\", Z1)\n",
        "print(\"Matriz Z2:\", Z2)\n",
        "print(\"Valores comunes:\", valores_comunes)"
      ],
      "metadata": {
        "colab": {
          "base_uri": "https://localhost:8080/"
        },
        "id": "NeXuGTD41EtC",
        "outputId": "20c03523-7070-4d04-8d4a-6dc6eaa25931"
      },
      "execution_count": 3,
      "outputs": [
        {
          "output_type": "stream",
          "name": "stdout",
          "text": [
            "Matriz Z1: [1 3 1 2 2 5 2 4 2 3]\n",
            "Matriz Z2: [8 7 8 1 1 7 5 5 6 5]\n",
            "Valores comunes: [1 5]\n"
          ]
        }
      ]
    },
    {
      "cell_type": "code",
      "source": [
        "#Ejercicio 17\n",
        "#Considere dos matrices aleatorias A y B, verifique si son iguales\n",
        "# A = np.random.randint(0,2,5)\n",
        "# B = np.random.randint(0,2,5)\n",
        "import numpy as np\n",
        "A = np.random.randint(0, 2, 5)\n",
        "B = np.random.randint(0, 2, 5)\n",
        "son_iguales = np.array_equal(A, B)\n",
        "print(\"Matriz A:\", A)"
      ],
      "metadata": {
        "colab": {
          "base_uri": "https://localhost:8080/"
        },
        "id": "qmKdGvr21EO6",
        "outputId": "ed3686ab-ccdf-4fd6-e42e-6b90c1a2f5e6"
      },
      "execution_count": 4,
      "outputs": [
        {
          "output_type": "stream",
          "name": "stdout",
          "text": [
            "Matriz A: [0 1 0 0 1]\n"
          ]
        }
      ]
    },
    {
      "cell_type": "code",
      "source": [
        "#Ejercicio 18\n",
        "#Apilar las matrices a y b verticalmente\n",
        "import numpy as np\n",
        "a = np.array([1, 2, 3])\n",
        "b = np.array([4, 5, 6])\n",
        "c = np.vstack((a, b))\n",
        "print(c)"
      ],
      "metadata": {
        "colab": {
          "base_uri": "https://localhost:8080/"
        },
        "id": "F4iEEloB1N8t",
        "outputId": "b652ded0-61b8-44ab-a8ed-178991946610"
      },
      "execution_count": 5,
      "outputs": [
        {
          "output_type": "stream",
          "name": "stdout",
          "text": [
            "[[1 2 3]\n",
            " [4 5 6]]\n"
          ]
        }
      ]
    },
    {
      "cell_type": "code",
      "source": [
        "#Ejercicio 19\n",
        "#Apile las matrices a y b horizontalmente.\n",
        "import numpy as np\n",
        "a = np.array([1, 2, 3])\n",
        "b = np.array([4, 5, 6])\n",
        "c = np.hstack((a, b))\n",
        "print(c)"
      ],
      "metadata": {
        "colab": {
          "base_uri": "https://localhost:8080/"
        },
        "id": "cOM5UyzyvmOm",
        "outputId": "c6174760-5de1-485a-ccf3-de346e1af074"
      },
      "execution_count": 6,
      "outputs": [
        {
          "output_type": "stream",
          "name": "stdout",
          "text": [
            "[1 2 3 4 5 6]\n"
          ]
        }
      ]
    },
    {
      "cell_type": "code",
      "source": [
        "#Ejercicio 20\n",
        "#Obtener todos los elementos entre 5 y 10 de la matriz tmp\n",
        "import numpy as np\n",
        "tmp = np.arange(15)\n",
        "arr = tmp[(tmp >= 5) & (tmp <= 10)]\n",
        "print(arr)"
      ],
      "metadata": {
        "colab": {
          "base_uri": "https://localhost:8080/"
        },
        "id": "6w4IAISc1Nzu",
        "outputId": "6bf7af60-5dec-4518-b7e4-55e6ff4ed0f1"
      },
      "execution_count": 9,
      "outputs": [
        {
          "output_type": "stream",
          "name": "stdout",
          "text": [
            "[ 5  6  7  8  9 10]\n"
          ]
        }
      ]
    }
  ]
}